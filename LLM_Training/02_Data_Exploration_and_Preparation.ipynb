{
 "cells": [
  {
   "cell_type": "markdown",
   "metadata": {},
   "source": [
    "# Exploring and Preparing Text Data for NLP"
   ]
  },
  {
   "cell_type": "markdown",
   "metadata": {},
   "source": [
    "Exploring and preparing text data for NLP is important because it helps ensure that the data used to train and test NLP models is relevant, accurate, and representative of the real-world data that the model will encounter. Exploring the data with frequency analysis, sentiment analysis, and topic modeling can provide insights into the characteristics of the data and help identify any issues. \n",
    "\n",
    "Preparing the data for training an LLM by splitting it into train, validation, and test sets can help ensure that the model is robust and generalizes well to new data. Overall, effective exploration and preparation of text data is essential for building accurate and effective NLP models."
   ]
  },
  {
   "cell_type": "markdown",
   "metadata": {},
   "source": [
    "##  Import Necessary Libraries"
   ]
  },
  {
   "cell_type": "markdown",
   "metadata": {},
   "source": [
    "In this step, we import the necessary libraries for data exploration and preparation, including Pandas for loading and manipulating data, NLTK for natural language processing tasks, and scikit-learn for machine learning tasks."
   ]
  },
  {
   "cell_type": "code",
   "execution_count": 1,
   "metadata": {
    "vscode": {
     "languageId": "plaintext"
    }
   },
   "outputs": [
    {
     "name": "stderr",
     "output_type": "stream",
     "text": [
      "[nltk_data] Downloading package vader_lexicon to\n",
      "[nltk_data]     C:\\Users\\badhei\\AppData\\Roaming\\nltk_data...\n",
      "[nltk_data]   Package vader_lexicon is already up-to-date!\n"
     ]
    },
    {
     "data": {
      "text/plain": [
       "True"
      ]
     },
     "execution_count": 1,
     "metadata": {},
     "output_type": "execute_result"
    }
   ],
   "source": [
    "import pandas as pd\n",
    "import nltk\n",
    "from nltk import FreqDist\n",
    "from nltk.sentiment import SentimentIntensityAnalyzer\n",
    "from nltk.corpus import stopwords\n",
    "from sklearn.model_selection import train_test_split\n",
    "from sklearn.feature_extraction.text import CountVectorizer\n",
    "from sklearn.decomposition import LatentDirichletAllocation as LDA\n",
    "\n",
    "nltk.download('vader_lexicon')"
   ]
  },
  {
   "cell_type": "markdown",
   "metadata": {},
   "source": [
    "## Define File Paths"
   ]
  },
  {
   "cell_type": "markdown",
   "metadata": {},
   "source": [
    "Here, we define the file path to the preprocessed data that we will be exploring and preparing."
   ]
  },
  {
   "cell_type": "code",
   "execution_count": 2,
   "metadata": {
    "vscode": {
     "languageId": "plaintext"
    }
   },
   "outputs": [],
   "source": [
    "preprocessed_data_path = 'datasets/data.csv'"
   ]
  },
  {
   "cell_type": "markdown",
   "metadata": {},
   "source": [
    "## Load Preprocessed Data"
   ]
  },
  {
   "cell_type": "markdown",
   "metadata": {},
   "source": [
    "In this step, we load the preprocessed data from the CSV file into a Pandas dataframe, which allows us to manipulate and explore the data using Python."
   ]
  },
  {
   "cell_type": "code",
   "execution_count": 3,
   "metadata": {
    "vscode": {
     "languageId": "plaintext"
    }
   },
   "outputs": [],
   "source": [
    "preprocessed_data = pd.read_csv(preprocessed_data_path)"
   ]
  },
  {
   "cell_type": "markdown",
   "metadata": {},
   "source": [
    "## Explore Data Using Frequency Analysis"
   ]
  },
  {
   "cell_type": "markdown",
   "metadata": {},
   "source": [
    "This function takes in a list of preprocessed documents and uses frequency analysis to explore the most common words and phrases in the data. This is an important step in data exploration because it helps us understand the most important features of the data."
   ]
  },
  {
   "cell_type": "code",
   "execution_count": 4,
   "metadata": {
    "vscode": {
     "languageId": "plaintext"
    }
   },
   "outputs": [],
   "source": [
    "def explore_with_frequency_analysis(data):\n",
    "    tokens = []\n",
    "    for document in data:\n",
    "        tokens += document\n",
    "    fdist = FreqDist(tokens)\n",
    "    fdist.plot(30)"
   ]
  },
  {
   "cell_type": "markdown",
   "metadata": {},
   "source": [
    "## Explore Data Using Sentiment Analysis"
   ]
  },
  {
   "cell_type": "markdown",
   "metadata": {},
   "source": [
    "This function takes in a list of preprocessed documents and uses sentiment analysis to explore the overall sentiment of the data. This is an important step in data exploration because it helps us understand the overall tone and mood of the data."
   ]
  },
  {
   "cell_type": "code",
   "execution_count": 5,
   "metadata": {
    "vscode": {
     "languageId": "plaintext"
    }
   },
   "outputs": [],
   "source": [
    "def explore_with_sentiment_analysis(data):\n",
    "    sia = SentimentIntensityAnalyzer()\n",
    "    for document in data:\n",
    "        print(sia.polarity_scores(document))"
   ]
  },
  {
   "cell_type": "markdown",
   "metadata": {},
   "source": [
    "## Explore Data Using Topic Modeling"
   ]
  },
  {
   "cell_type": "markdown",
   "metadata": {},
   "source": [
    "This function takes in a list of preprocessed documents and uses topic modeling to explore the most important topics and themes in the data. This is an important step in data exploration because it helps us understand the underlying patterns and structures in the data."
   ]
  },
  {
   "cell_type": "code",
   "execution_count": 6,
   "metadata": {
    "vscode": {
     "languageId": "plaintext"
    }
   },
   "outputs": [],
   "source": [
    "def explore_with_topic_modeling(data):\n",
    "    # Convert data to a list if it is a pandas DataFrame or Series\n",
    "    if isinstance(data, (pd.DataFrame, pd.Series)):\n",
    "        data = data.tolist()\n",
    "\n",
    "    if data and isinstance(data, list) and all(isinstance(doc, str) for doc in data):\n",
    "        vectorizer = CountVectorizer()\n",
    "        X = vectorizer.fit_transform(data)\n",
    "        terms = vectorizer.get_feature_names_out()\n",
    "        df = pd.DataFrame(X.toarray(), columns=terms)\n",
    "        print(df.head())\n",
    "    else:\n",
    "        print(\"Input data should be a list of strings.\")"
   ]
  },
  {
   "cell_type": "markdown",
   "metadata": {},
   "source": [
    "## Prepare the Data for Training an LLM"
   ]
  },
  {
   "cell_type": "markdown",
   "metadata": {},
   "source": [
    "This function takes in a list of preprocessed documents and prepares the data for training a language model by splitting it into train, validation, and test sets and vectorizing the data using a CountVectorizer. This is an important step in data preparation because it provides a clean and structured dataset that can be used for training and testing a language model."
   ]
  },
  {
   "cell_type": "markdown",
   "metadata": {},
   "source": [
    "Count vectorizer is an important feature extraction technique in Natural Language Processing (NLP) that converts text data into numerical values. It works by counting the frequency of each word in a given corpus and creating a matrix representation of the text data, where each row corresponds to a document and each column corresponds to a word"
   ]
  },
  {
   "cell_type": "code",
   "execution_count": 7,
   "metadata": {
    "vscode": {
     "languageId": "plaintext"
    }
   },
   "outputs": [],
   "source": [
    "def prepare_data_for_training(data):\n",
    "    vectorizer = CountVectorizer()\n",
    "    X = [document for document in data]\n",
    "    y = preprocessed_data['label']\n",
    "    X_train, X_test, y_train, y_test = train_test_split(X, y, test_size=0.2, random_state=42)\n",
    "    X_train, X_val, y_train, y_val = train_test_split(X_train, y_train, test_size=0.25, random_state=42)\n",
    "    X_train = vectorizer.fit_transform(X_train)\n",
    "    X_val = vectorizer.transform(X_val)\n",
    "    X_test = vectorizer.transform(X_test)\n",
    "    return X_train, y_train, X_val, y_val, X_test, y_test"
   ]
  },
  {
   "cell_type": "markdown",
   "metadata": {},
   "source": [
    "## Call the Functions and Prepare the Data"
   ]
  },
  {
   "cell_type": "markdown",
   "metadata": {},
   "source": [
    "In this final step, we call the functions defined in the previous steps and prepare the data for training a language model. By going through these steps, we have explored and prepared the data in a way that allows us to build a more accurate and effective language model."
   ]
  },
  {
   "cell_type": "code",
   "execution_count": 8,
   "metadata": {
    "vscode": {
     "languageId": "plaintext"
    }
   },
   "outputs": [
    {
     "data": {
      "image/png": "[encoded data removed]",
      "text/plain": [
       "<Figure size 432x288 with 1 Axes>"
      ]
     },
     "metadata": {
      "needs_background": "light"
     },
     "output_type": "display_data"
    },
    {
     "name": "stdout",
     "output_type": "stream",
     "text": [
      "{'neg': 0.0, 'neu': 1.0, 'pos': 0.0, 'compound': 0.0}\n",
      "{'neg': 0.0, 'neu': 0.67, 'pos': 0.33, 'compound': 0.7501}\n",
      "{'neg': 0.382, 'neu': 0.618, 'pos': 0.0, 'compound': -0.7345}\n",
      "{'neg': 0.0, 'neu': 0.2, 'pos': 0.8, 'compound': 0.6114}\n",
      "{'neg': 0.0, 'neu': 0.393, 'pos': 0.607, 'compound': 0.4738}\n",
      "{'neg': 0.0, 'neu': 0.363, 'pos': 0.637, 'compound': 0.7405}\n",
      "{'neg': 0.318, 'neu': 0.437, 'pos': 0.245, 'compound': -0.2103}\n",
      "{'neg': 0.207, 'neu': 0.669, 'pos': 0.124, 'compound': -0.3048}\n",
      "{'neg': 0.0, 'neu': 1.0, 'pos': 0.0, 'compound': 0.0}\n",
      "{'neg': 0.0, 'neu': 1.0, 'pos': 0.0, 'compound': 0.0}\n",
      "{'neg': 0.191, 'neu': 0.809, 'pos': 0.0, 'compound': -0.3818}\n",
      "{'neg': 0.0, 'neu': 0.441, 'pos': 0.559, 'compound': 0.5859}\n",
      "{'neg': 0.172, 'neu': 0.828, 'pos': 0.0, 'compound': -0.3164}\n",
      "{'neg': 0.109, 'neu': 0.891, 'pos': 0.0, 'compound': -0.4228}\n",
      "{'neg': 0.106, 'neu': 0.78, 'pos': 0.115, 'compound': 0.0516}\n",
      "{'neg': 0.317, 'neu': 0.573, 'pos': 0.11, 'compound': -0.6908}\n",
      "{'neg': 0.615, 'neu': 0.385, 'pos': 0.0, 'compound': -0.1531}\n",
      "{'neg': 0.0, 'neu': 1.0, 'pos': 0.0, 'compound': 0.0}\n",
      "{'neg': 0.0, 'neu': 0.764, 'pos': 0.236, 'compound': 0.5719}\n",
      "{'neg': 0.145, 'neu': 0.767, 'pos': 0.089, 'compound': -0.3369}\n",
      "{'neg': 0.528, 'neu': 0.472, 'pos': 0.0, 'compound': -0.6808}\n",
      "{'neg': 0.301, 'neu': 0.699, 'pos': 0.0, 'compound': -0.6486}\n",
      "{'neg': 0.333, 'neu': 0.667, 'pos': 0.0, 'compound': -0.5423}\n",
      "{'neg': 0.0, 'neu': 1.0, 'pos': 0.0, 'compound': 0.0}\n",
      "{'neg': 0.361, 'neu': 0.639, 'pos': 0.0, 'compound': -0.5242}\n",
      "{'neg': 0.0, 'neu': 0.435, 'pos': 0.565, 'compound': 0.3804}\n",
      "{'neg': 0.14, 'neu': 0.645, 'pos': 0.215, 'compound': 0.2728}\n",
      "{'neg': 0.0, 'neu': 1.0, 'pos': 0.0, 'compound': 0.0}\n",
      "{'neg': 0.0, 'neu': 1.0, 'pos': 0.0, 'compound': 0.0}\n",
      "{'neg': 0.107, 'neu': 0.78, 'pos': 0.112, 'compound': 0.0258}\n",
      "{'neg': 0.0, 'neu': 0.894, 'pos': 0.106, 'compound': 0.0772}\n",
      "{'neg': 0.353, 'neu': 0.647, 'pos': 0.0, 'compound': -0.4084}\n",
      "{'neg': 0.057, 'neu': 0.833, 'pos': 0.11, 'compound': 0.296}\n",
      "{'neg': 0.0, 'neu': 1.0, 'pos': 0.0, 'compound': 0.0}\n",
      "{'neg': 0.0, 'neu': 1.0, 'pos': 0.0, 'compound': 0.0}\n",
      "{'neg': 0.0, 'neu': 1.0, 'pos': 0.0, 'compound': 0.0}\n",
      "{'neg': 0.0, 'neu': 0.28, 'pos': 0.72, 'compound': 0.8271}\n",
      "{'neg': 0.101, 'neu': 0.783, 'pos': 0.115, 'compound': 0.0772}\n",
      "{'neg': 0.206, 'neu': 0.794, 'pos': 0.0, 'compound': -0.0772}\n",
      "{'neg': 0.094, 'neu': 0.725, 'pos': 0.181, 'compound': 0.296}\n",
      "{'neg': 0.0, 'neu': 1.0, 'pos': 0.0, 'compound': 0.0}\n",
      "{'neg': 0.192, 'neu': 0.808, 'pos': 0.0, 'compound': -0.2263}\n",
      "{'neg': 0.0, 'neu': 0.805, 'pos': 0.195, 'compound': 0.5972}\n",
      "{'neg': 0.0, 'neu': 1.0, 'pos': 0.0, 'compound': 0.0}\n",
      "{'neg': 0.093, 'neu': 0.588, 'pos': 0.318, 'compound': 0.68}\n",
      "{'neg': 0.0, 'neu': 0.446, 'pos': 0.554, 'compound': 0.7351}\n",
      "{'neg': 0.078, 'neu': 0.678, 'pos': 0.244, 'compound': 0.5332}\n",
      "{'neg': 0.0, 'neu': 0.448, 'pos': 0.552, 'compound': 0.5719}\n",
      "{'neg': 0.137, 'neu': 0.863, 'pos': 0.0, 'compound': -0.1513}\n",
      "{'neg': 0.75, 'neu': 0.25, 'pos': 0.0, 'compound': -0.4585}\n",
      "   200  4n  4w75p  67ezh  about  ac  acum  again  agree  ahhh  ...  within  \\\n",
      "0    0   0      0      1      0   0     0      0      0     0  ...       0   \n",
      "1    0   0      0      0      0   0     0      0      0     0  ...       0   \n",
      "2    0   0      0      0      0   0     0      0      0     0  ...       0   \n",
      "3    0   0      0      0      0   0     0      0      0     0  ...       0   \n",
      "4    0   0      1      0      0   0     0      0      0     0  ...       0   \n",
      "\n",
      "   wonderful  worked  world  xoxo  yesterday  yet  you  youngest  your  \n",
      "0          0       0      0     0          0    0    0         0     0  \n",
      "1          0       0      0     0          0    0    0         0     0  \n",
      "2          0       0      0     0          0    0    0         0     0  \n",
      "3          0       0      0     0          0    0    0         0     0  \n",
      "4          0       0      0     0          0    0    0         0     0  \n",
      "\n",
      "[5 rows x 335 columns]\n"
     ]
    }
   ],
   "source": [
    "# Explore the preprocessed data using frequency analysis\n",
    "explore_with_frequency_analysis(preprocessed_data['text'])\n",
    "# Explore the preprocessed data using sentiment analysis\n",
    "explore_with_sentiment_analysis(preprocessed_data['text'])\n",
    "\n",
    "# Explore the preprocessed data using topic modeling\n",
    "explore_with_topic_modeling(preprocessed_data['text'])\n",
    "\n",
    "# Prepare the data for training an LLM\n",
    "X_train, y_train, X_val, y_val, X_test, y_test = prepare_data_for_training(preprocessed_data['text'])"
   ]
  }
 ],
 "metadata": {
  "kernelspec": {
   "display_name": "ethos",
   "language": "python",
   "name": "ethos"
  },
  "language_info": {
   "codemirror_mode": {
    "name": "ipython",
    "version": 3
   },
   "file_extension": ".py",
   "mimetype": "text/x-python",
   "name": "python",
   "nbconvert_exporter": "python",
   "pygments_lexer": "ipython3",
   "version": "3.8.13"
  }
 },
 "nbformat": 4,
 "nbformat_minor": 4
}
